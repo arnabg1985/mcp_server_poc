{
 "cells": [
  {
   "cell_type": "code",
   "execution_count": 1,
   "id": "1b46cbd3",
   "metadata": {},
   "outputs": [],
   "source": [
    "import csv\n",
    "import random\n",
    "from datetime import datetime, timedelta"
   ]
  },
  {
   "cell_type": "code",
   "execution_count": 2,
   "id": "05e6d1d6",
   "metadata": {},
   "outputs": [],
   "source": [
    "apps = [\n",
    "    \"StockTraderPro\", \"MarketAnalyzer\", \"FinTransact\", \"EquityInsight\",\n",
    "    \"RiskGuardian\", \"TradeStream\", \"OptionMaster\", \"BondWatch\",\n",
    "    \"ForexPulse\", \"PortfolioPro\", \"CryptoFlow\", \"LoanLogic\"\n",
    "]\n",
    "servers = [\"srv-app01\", \"srv-app02\", \"srv-db01\", \"srv-db02\", \"srv-cache01\", \"srv-web01\"]\n",
    "levels = [\"info\", \"exception\"]\n",
    "severities = [\"low\", \"medium\", \"high\", \"critical\"]\n",
    "error_msgs = [\n",
    "    \"NullReferenceException at TradeProcessor.cs:104\",\n",
    "    \"TimeoutError: Request to market data feed failed\",\n",
    "    \"Database connection lost during transaction commit\",\n",
    "    \"ValueError: Invalid ticker symbol input\",\n",
    "    \"Authentication failed for user session\",\n",
    "    \"ArrayIndexOutOfBoundsException: Portfolio array\",\n",
    "    \"Division by zero in ROI calculation\",\n",
    "    \"External API unavailable: currency exchange rates\"\n",
    "]\n",
    "stack_traces = [\n",
    "    \"at TradeProcessor.ProcessOrder (TradeProcessor.cs:104)\\nat Main (Program.cs:12)\",\n",
    "    \"at MarketFeed.GetData (MarketFeed.py:204)\\nat run_feed (main.py:38)\",\n",
    "    \"at DBSession.commit (db.py:67)\\nat execute_trade (trade.py:58)\",\n",
    "    \"at Utils.validate_ticker (utils.js:77)\\nat main (index.js:11)\",\n",
    "    \"at AuthService.login (auth.go:145)\\nat main (main.go:7)\",\n",
    "    \"at PortfolioManager.update (portfolio.rb:102)\\nat main (app.rb:17)\",\n",
    "    \"at Calculator.calculateROI (calc.java:90)\\nat TradeHandler.handle (TradeHandler.java:23)\",\n",
    "    \"at ExchangeAPI.getRates (api.ts:36)\\nat updateRates (rates.ts:19)\"\n",
    "]"
   ]
  },
  {
   "cell_type": "code",
   "execution_count": 3,
   "id": "a02349c0",
   "metadata": {},
   "outputs": [
    {
     "name": "stdout",
     "output_type": "stream",
     "text": [
      "financial_application_logs.csv generated with 5000 dummy records.\n"
     ]
    }
   ],
   "source": [
    "rows = []\n",
    "start_date = datetime.now() - timedelta(days=30)\n",
    "for i in range(5000):\n",
    "    app = random.choice(apps)\n",
    "    date = (start_date + timedelta(minutes=i*10)).strftime(\"%Y-%m-%d\")\n",
    "    timestamp = (start_date + timedelta(minutes=i*10)).strftime(\"%H:%M:%S\")\n",
    "    level = random.choices(levels, weights=[0.8, 0.2])[0]\n",
    "    server = random.choice(servers)\n",
    "    severity = random.choice(severities)\n",
    "    if level == \"exception\":\n",
    "        msg = random.choice(error_msgs)\n",
    "        stack = random.choice(stack_traces)\n",
    "    else:\n",
    "        msg = \"N/A\"\n",
    "        stack = \"N/A\"\n",
    "    rows.append([app, date, timestamp, level, server, severity, stack, msg])\n",
    "\n",
    "with open(\"financial_application_logs.csv\", \"w\", newline=\"\") as f:\n",
    "    writer = csv.writer(f)\n",
    "    writer.writerow([\n",
    "        \"application_name\", \"date\", \"time_stamp\", \"log_level\",\n",
    "        \"servernames\", \"severity\", \"detailed_stack_trace\", \"error_message\"\n",
    "    ])\n",
    "    writer.writerows(rows)\n",
    "print(\"financial_application_logs.csv generated with 5000 dummy records.\")"
   ]
  }
 ],
 "metadata": {
  "kernelspec": {
   "display_name": "sumanda_temp",
   "language": "python",
   "name": "python3"
  },
  "language_info": {
   "codemirror_mode": {
    "name": "ipython",
    "version": 3
   },
   "file_extension": ".py",
   "mimetype": "text/x-python",
   "name": "python",
   "nbconvert_exporter": "python",
   "pygments_lexer": "ipython3",
   "version": "3.13.2"
  }
 },
 "nbformat": 4,
 "nbformat_minor": 5
}
